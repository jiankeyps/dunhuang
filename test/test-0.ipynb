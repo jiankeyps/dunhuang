{
 "cells": [
  {
   "cell_type": "code",
   "execution_count": 94,
   "id": "c7f531eb",
   "metadata": {},
   "outputs": [
    {
     "name": "stdout",
     "output_type": "stream",
     "text": [
      "<class 'list'> [Record({'n.编号': '莫276EB1'}), Record({'n.编号': '莫276EB2'}), Record({'n.编号': '莫301EP1'}), Record({'n.编号': '莫301EB2'}), Record({'n.编号': '莫442TOP1'}), Record({'n.编号': '莫442TOP2'})]\n",
      "6\n",
      "1 '莫276EB1'\n",
      "2 '莫276EB2'\n",
      "3 '莫301EP1'\n",
      "4 '莫301EB2'\n",
      "5 '莫442TOP1'\n",
      "6 '莫442TOP2'\n",
      "ok\n"
     ]
    },
    {
     "data": {
      "text/plain": [
       "\"\\ni = 0\\nwhile (i <= n):\\n    name = record[i]\\n    i += 1\\n    print(i,name)\\n        \\nprint('ok')\\n\\n\""
      ]
     },
     "execution_count": 94,
     "metadata": {},
     "output_type": "execute_result"
    }
   ],
   "source": [
    "from py2neo import *\n",
    "\n",
    "graph = Graph(\"http://localhost:7474\",auth=(\"neo4j\",\"123456\"))\n",
    "\n",
    "result = graph.run('match (n:壁画)  return n.编号')\n",
    "record = list(result)\n",
    "print(type(record),record)\n",
    "\n",
    "n = len(record)\n",
    "print(n)\n",
    "\n",
    "\n",
    "for i in range(n):\n",
    "    if i <= n:\n",
    "        name = record[i]\n",
    "        i += 1\n",
    "        print(i,name)\n",
    "    else:\n",
    "        break\n",
    "    \n",
    "print('ok')\n",
    "\n",
    "\n",
    "'''\n",
    "i = 0\n",
    "while (i <= n):\n",
    "    name = record[i]\n",
    "    i += 1\n",
    "    print(i,name)\n",
    "        \n",
    "print('ok')\n",
    "\n",
    "'''\n",
    "\n"
   ]
  },
  {
   "cell_type": "code",
   "execution_count": 178,
   "id": "db13e807",
   "metadata": {},
   "outputs": [
    {
     "name": "stdout",
     "output_type": "stream",
     "text": [
      "<class 'list'> [{'n.编号': '莫276EB1'}, {'n.编号': '莫276EB2'}, {'n.编号': '莫301EB2'}, {'n.编号': '莫442TOP2'}]\n",
      "4\n",
      "莫276EB1\n"
     ]
    }
   ],
   "source": [
    "#coding=utf-8\n",
    "\n",
    "import pandas as pd\n",
    "from py2neo import Node,Relationship,Graph,Path,Subgraph\n",
    "from py2neo import NodeMatcher,RelationshipMatcher\n",
    "\n",
    "graph = Graph(\"http://localhost:7474\",auth=(\"neo4j\",\"123456\"))\n",
    "\n",
    "query = 'match (n:壁画) where n.屋顶=\"庑殿顶\"  return n.编号'\n",
    "result = graph.run(query).data()  \n",
    "\n",
    "print(type(result),result)\n",
    "\n",
    "n = len(result)  \n",
    "print(n)\n",
    "\n",
    "record = (result[0]['n.编号'])\n",
    "print(record)\n",
    "\n"
   ]
  },
  {
   "cell_type": "code",
   "execution_count": null,
   "id": "3ad4b5c8",
   "metadata": {},
   "outputs": [],
   "source": [
    "graph.run()的结果可以通过数据形式呈现。数据基本格式是list of dictionary,可以按需求转换为其它格式：\n",
    "\n",
    "graph.run().data()               # a list of dictionary\n",
    "graph.run().to_data_frame()      # pd.DataFrame\n",
    "graph.run().to_ndarray()         # numpy.ndarray\n",
    "graph.run().to_subgraph()\n",
    "graph.run().to_table()"
   ]
  },
  {
   "cell_type": "code",
   "execution_count": null,
   "id": "6e710521",
   "metadata": {},
   "outputs": [
    {
     "name": "stdout",
     "output_type": "stream",
     "text": [
      " * Serving Flask app \"__main__\" (lazy loading)\n",
      " * Environment: production\n",
      "\u001b[31m   WARNING: This is a development server. Do not use it in a production deployment.\u001b[0m\n",
      "\u001b[2m   Use a production WSGI server instead.\u001b[0m\n",
      " * Debug mode: off\n"
     ]
    },
    {
     "name": "stderr",
     "output_type": "stream",
     "text": [
      " * Running on http://127.0.0.1:5000/ (Press CTRL+C to quit)\n",
      "127.0.0.1 - - [10/Feb/2022 08:00:40] \"\u001b[37mGET / HTTP/1.1\u001b[0m\" 200 -\n",
      "127.0.0.1 - - [10/Feb/2022 08:00:40] \"\u001b[33mGET /graph HTTP/1.1\u001b[0m\" 404 -\n",
      "127.0.0.1 - - [10/Feb/2022 08:00:46] \"\u001b[37mPOST / HTTP/1.1\u001b[0m\" 200 -\n",
      "127.0.0.1 - - [10/Feb/2022 08:00:46] \"\u001b[33mGET /graph HTTP/1.1\u001b[0m\" 404 -\n"
     ]
    },
    {
     "name": "stdout",
     "output_type": "stream",
     "text": [
      "match (n:壁画) where n.屋顶=\"庑殿顶\"and n. 基座1=\"台阶\"return n.编号\n"
     ]
    }
   ],
   "source": [
    "#coding=utf-8\n",
    "from flask import Flask,render_template,request,g,current_app\n",
    "import query\n",
    "import test\n",
    "\n",
    "app = Flask(__name__)\n",
    "\n",
    "\n",
    "@app.route('/',methods = ['GET','POST'])\n",
    "def get_click():\n",
    "    if request.method == 'GET':\n",
    "        return render_template('index.html')\n",
    "        #shiqi = request.form.get(\"chaodai\")\n",
    "    if request.method == 'POST':\n",
    "        chaodai = request.form.get(\"chaodai\")\n",
    "        dongku = request.form.get(\"dongku\")\n",
    "        xingzhi = request.form.get(\"xingzhi\")\n",
    "        zhuti = request.form.get(\"zhuti\")\n",
    "        buju = request.form.get(\"buju\")\n",
    "        leixing = request.form.get(\"leixing\")\n",
    "        wuding = request.form.get(\"wuding\")\n",
    "        wudingjiegoufujian = request.form.get(\"wudingjiegoufujian\")\n",
    "        washi = request.form.get(\"washi\")\n",
    "        wushen = request.form.get(\"wushen\")\n",
    "        wushenjiegoufujian = request.form.get(\"wushenjiegoufujian\")\n",
    "        qiangshi = request.form.get(\"qiangshi\")\n",
    "        jizuo = request.form.get(\"jizuo\")\n",
    "        jizuofujian = request.form.get(\"jizuofujian\")\n",
    "        \n",
    "        click = [chaodai,dongku,xingzhi,zhuti,buju,leixing,wuding,wudingjiegoufujian,washi,wushen,\n",
    "              wushenjiegoufujian,qiangshi,jizuo,jizuofujian]\n",
    "        \n",
    "        g.click = click       #化为G对象\n",
    "        #ret = test()          #G对象作为容器,将参数click传递到test()函数\n",
    "        \n",
    "        cypher = query.query_func()\n",
    "        print(cypher)\n",
    "        #a = test.test()\n",
    "        #print(a)\n",
    "        \n",
    "    return  render_template('/index.html')\n",
    "\n",
    "'''\n",
    "def crate_app():\n",
    "    app = Flask(__name__)\n",
    "    \n",
    "    with app.app_context():\n",
    "        get_click()\n",
    "        \n",
    "    return app\n",
    "\n",
    "'''\n",
    "'''\n",
    "def test():\n",
    "    #click = g.click \n",
    "    print(g.click)'''\n",
    "\n",
    "\n",
    "#with app.app_context():\n",
    " #   print(current_app.get_click)\n",
    "    #print(g.click)\n",
    "\n",
    "    #get_click()\n",
    "#print(click)    \n",
    "\n",
    "#通过import的query函数，将返回的查询列表click传入函数，得到Cypher问句\n",
    "#query = query.query_func()\n",
    "#print(query)\n",
    "\n",
    "#a = test.test()\n",
    "#print(a)\n",
    "    \n",
    "    \n",
    "if __name__ == '__main__':\n",
    "    app.run()\n"
   ]
  },
  {
   "cell_type": "code",
   "execution_count": 1,
   "id": "132fdab6",
   "metadata": {},
   "outputs": [
    {
     "name": "stdout",
     "output_type": "stream",
     "text": [
      "__name__\n"
     ]
    }
   ],
   "source": [
    "from flask import Flask, current_app\n",
    "app = Flask('__name__')\n",
    " \n",
    "@app.route('/')\n",
    "def index():\n",
    "    a = 10 \n",
    "    \n",
    "    return 'Hello, %s!' % current_app.name\n",
    "\n",
    "with app.app_context():\n",
    "    print(current_app.name)\n",
    "    #print(current_app.a)"
   ]
  },
  {
   "cell_type": "code",
   "execution_count": null,
   "id": "58e1ecd5",
   "metadata": {},
   "outputs": [
    {
     "name": "stdout",
     "output_type": "stream",
     "text": [
      " * Serving Flask app \"__main__\" (lazy loading)\n",
      " * Environment: production\n",
      "\u001b[31m   WARNING: This is a development server. Do not use it in a production deployment.\u001b[0m\n",
      "\u001b[2m   Use a production WSGI server instead.\u001b[0m\n",
      " * Debug mode: off\n"
     ]
    },
    {
     "name": "stderr",
     "output_type": "stream",
     "text": [
      " * Running on http://127.0.0.1:5000/ (Press CTRL+C to quit)\n",
      "[2022-02-23 06:12:34,391] ERROR in app: Exception on / [GET]\n",
      "Traceback (most recent call last):\n",
      "  File \"/opt/anaconda3/lib/python3.8/site-packages/flask/app.py\", line 2447, in wsgi_app\n",
      "    response = self.full_dispatch_request()\n",
      "  File \"/opt/anaconda3/lib/python3.8/site-packages/flask/app.py\", line 1952, in full_dispatch_request\n",
      "    rv = self.handle_user_exception(e)\n",
      "  File \"/opt/anaconda3/lib/python3.8/site-packages/flask/app.py\", line 1821, in handle_user_exception\n",
      "    reraise(exc_type, exc_value, tb)\n",
      "  File \"/opt/anaconda3/lib/python3.8/site-packages/flask/_compat.py\", line 39, in reraise\n",
      "    raise value\n",
      "  File \"/opt/anaconda3/lib/python3.8/site-packages/flask/app.py\", line 1948, in full_dispatch_request\n",
      "    rv = self.preprocess_request()\n",
      "  File \"/opt/anaconda3/lib/python3.8/site-packages/flask/app.py\", line 2242, in preprocess_request\n",
      "    rv = func()\n",
      "  File \"<ipython-input-2-f09925ea534d>\", line 17, in before_request2\n",
      "    print (request.url,a)\n",
      "NameError: name 'a' is not defined\n",
      "127.0.0.1 - - [23/Feb/2022 06:12:34] \"\u001b[35m\u001b[1mGET / HTTP/1.1\u001b[0m\" 500 -\n"
     ]
    },
    {
     "name": "stdout",
     "output_type": "stream",
     "text": [
      "before request started\n",
      "http://127.0.0.1:5000/\n",
      "before request started 2\n",
      "after request finished\n",
      "http://127.0.0.1:5000/\n",
      "teardown request\n",
      "http://127.0.0.1:5000/\n"
     ]
    }
   ],
   "source": [
    "from flask import Flask, g, request\n",
    "from werkzeug.test import EnvironBuilder\n",
    "\n",
    "\n",
    "\n",
    "app = Flask(__name__)\n",
    "\n",
    "@app.before_request\n",
    "def before_request():\n",
    "    print ('before request started')\n",
    "    a = 100\n",
    "    print (request.url)\n",
    "\n",
    "@app.before_request\n",
    "def before_request2():\n",
    "    print ('before request started 2')\n",
    "    print (request.url,a)\n",
    "    g.name=\"SampleApp\"\n",
    "\n",
    "@app.after_request\n",
    "def after_request(response):\n",
    "    print ('after request finished')\n",
    "    b = 200\n",
    "    print (request.url)\n",
    "    response.headers['key'] = 'value'\n",
    "    return response\n",
    "\n",
    "@app.teardown_request\n",
    "def teardown_request(exception):\n",
    "    print ('teardown request')\n",
    "    print (request.url)\n",
    "\n",
    "    \n",
    "#with app.request_context(EnvironBuilder('/','http://localhost/').get_environ()):\n",
    " #   print ('re:',request.url,a+b)\n",
    "\n",
    "\n",
    "'''\n",
    "def handle_request():\n",
    "    print ('handle request')\n",
    "    print (request.url)\n",
    "\n",
    "handle_request()    \n",
    "    \n",
    "    '''\n",
    "    \n",
    "@app.route('/')\n",
    "def index():\n",
    "    return 'Hello, %s!' % g.name\n",
    "\n",
    "if __name__ == '__main__':\n",
    "    app.run()\n"
   ]
  },
  {
   "cell_type": "code",
   "execution_count": null,
   "id": "69bd74ed",
   "metadata": {},
   "outputs": [],
   "source": []
  },
  {
   "cell_type": "code",
   "execution_count": null,
   "id": "632b54d6",
   "metadata": {},
   "outputs": [],
   "source": []
  }
 ],
 "metadata": {
  "kernelspec": {
   "display_name": "Python 3",
   "language": "python",
   "name": "python3"
  },
  "language_info": {
   "codemirror_mode": {
    "name": "ipython",
    "version": 3
   },
   "file_extension": ".py",
   "mimetype": "text/x-python",
   "name": "python",
   "nbconvert_exporter": "python",
   "pygments_lexer": "ipython3",
   "version": "3.8.8"
  }
 },
 "nbformat": 4,
 "nbformat_minor": 5
}
