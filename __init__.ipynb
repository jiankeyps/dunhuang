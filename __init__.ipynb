{
 "cells": [
  {
   "cell_type": "code",
   "execution_count": 1,
   "id": "2c7a6402",
   "metadata": {},
   "outputs": [],
   "source": [
    "#需要import同一目录中外部引用，必须有此文件，空白即可\n"
   ]
  },
  {
   "cell_type": "code",
   "execution_count": 2,
   "id": "a8ca28b5",
   "metadata": {},
   "outputs": [
    {
     "name": "stdout",
     "output_type": "stream",
     "text": [
      "[NbConvertApp] Converting notebook __init__.ipynb to python\n",
      "[NbConvertApp] Writing 98 bytes to __init__.py\n"
     ]
    }
   ],
   "source": [
    "#需要import外部引用，因此将ipynb文件另存为同一目录的py文件\n",
    "try:    \n",
    "    !jupyter nbconvert --to python __init__.ipynb\n",
    "    # python即转化为.py，script即转化为.html\n",
    "    # file_name.ipynb即当前module的文件名\n",
    "except:\n",
    "    pass"
   ]
  },
  {
   "cell_type": "code",
   "execution_count": null,
   "id": "96baf825",
   "metadata": {},
   "outputs": [],
   "source": []
  }
 ],
 "metadata": {
  "kernelspec": {
   "display_name": "Python 3",
   "language": "python",
   "name": "python3"
  },
  "language_info": {
   "codemirror_mode": {
    "name": "ipython",
    "version": 3
   },
   "file_extension": ".py",
   "mimetype": "text/x-python",
   "name": "python",
   "nbconvert_exporter": "python",
   "pygments_lexer": "ipython3",
   "version": "3.8.8"
  }
 },
 "nbformat": 4,
 "nbformat_minor": 5
}
