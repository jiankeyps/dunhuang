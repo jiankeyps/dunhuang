{
 "cells": [
  {
   "cell_type": "code",
   "execution_count": null,
   "id": "5263e1c5",
   "metadata": {
    "scrolled": true
   },
   "outputs": [
    {
     "name": "stdout",
     "output_type": "stream",
     "text": [
      " * Serving Flask app \"__main__\" (lazy loading)\n",
      " * Environment: production\n",
      "\u001b[31m   WARNING: This is a development server. Do not use it in a production deployment.\u001b[0m\n",
      "\u001b[2m   Use a production WSGI server instead.\u001b[0m\n",
      " * Debug mode: off\n"
     ]
    },
    {
     "name": "stderr",
     "output_type": "stream",
     "text": [
      " * Running on http://127.0.0.1:5000/ (Press CTRL+C to quit)\n",
      "127.0.0.1 - - [23/Feb/2022 09:01:12] \"\u001b[37mGET / HTTP/1.1\u001b[0m\" 200 -\n",
      "127.0.0.1 - - [23/Feb/2022 09:01:12] \"\u001b[33mGET /graph HTTP/1.1\u001b[0m\" 404 -\n"
     ]
    }
   ],
   "source": [
    "#coding=utf-8\n",
    "\n",
    "from flask import Flask,jsonify,render_template,request,g,current_app\n",
    "from py2neo import *\n",
    "from functools import reduce\n",
    "import query\n",
    "import image_data\n",
    "import tupu\n",
    "\n",
    "app = Flask(__name__)\n",
    "graph = Graph(\"http://localhost:7474\",auth=(\"neo4j\",\"123456\"))\n",
    "\n",
    "\n",
    "\n",
    "@app.route('/',methods = ['GET','POST'])\n",
    "def index():\n",
    "    if request.method == 'GET':\n",
    "        image_list = []      #POST前输入index.html的图片参数先设空值\n",
    "        image_record = []\n",
    "        data = {}\n",
    "        #elements = tupu.graph_func()\n",
    "        return render_template('index.html',image_list = image_list,image_record = image_record,data = data)\n",
    "        \n",
    "    if request.method == 'POST':\n",
    "        chaodai = request.form.get(\"chaodai\")     #获取朝代表单值\n",
    "        dongku = request.form.get(\"dongku\")\n",
    "        xingzhi = request.form.get(\"xingzhi\")\n",
    "        zhuti = request.form.get(\"zhuti\")\n",
    "        buju = request.form.get(\"buju\")\n",
    "        leixing = request.form.get(\"leixing\")\n",
    "        wuding = request.form.get(\"wuding\")\n",
    "        wudingjiegoufujian = request.form.get(\"wudingjiegoufujian\")\n",
    "        washi = request.form.get(\"washi\")\n",
    "        wushen = request.form.get(\"wushen\")\n",
    "        wushenjiegoufujian = request.form.get(\"wushenjiegoufujian\")\n",
    "        qiangshi = request.form.get(\"qiangshi\")\n",
    "        jizuo = request.form.get(\"jizuo\")\n",
    "        jizuofujian = request.form.get(\"jizuofujian\")\n",
    "        \n",
    "        #所有表单提交查询列表\n",
    "        click = [chaodai,dongku,xingzhi,zhuti,buju,leixing,wuding,wudingjiegoufujian,washi,wushen,\n",
    "              wushenjiegoufujian,qiangshi,jizuo,jizuofujian]\n",
    "        \n",
    "        g.click = click       #click化为G对象        \n",
    "        cypher = query.query_func()  #G对象作为容器,将参数click传递到query模块query_func()函数，调用后得到Cypher问句\n",
    "        #print(cypher)\n",
    "        \n",
    "        result = graph.run(cypher).data()         #运行Cypher问句\n",
    "        print(result)\n",
    "        g.result = result       #运行结果化为G对象\n",
    "        #get_graph()     #get_graph()中才能调用g.result，不会AttributeError: '_AppCtxGlobals' object has no attribute 'result'\n",
    "        \n",
    "        out = image_data.image_func()          #调用image_data模块image_func()函数中，得到图像路径与名称\n",
    "        #print(out)\n",
    "        image_list = out[0]\n",
    "        image_record = out[1]\n",
    "        data = out[2]\n",
    "        \n",
    "        #elements = tupu.graph_func()    #graph为GET方法\n",
    "                \n",
    "        return  render_template('index.html',image_list = image_list,image_record = image_record,data = data)\n",
    "\n",
    "'''\n",
    "#由code.js中的$.get('/graph', function(result_nr) {}, 'json')调用\n",
    "#把neo4j的数据转成符合cytoscape要求的JSON数据存在code.js的result_nr中\n",
    "@app.route('/graph')\n",
    "def get_graph():\n",
    "    g.input = g.result    #AttributeError: '_AppCtxGlobals' object has no attribute 'result'\n",
    "    elements = tupu.graph_func()         #调用tupu模块的graph_func函数，将json格式的节点、关系返回前端知识图谱cy中\n",
    "    #print(nodes)\n",
    "    #print(edges)\n",
    "    \n",
    "    #print(g.result)\n",
    "\n",
    "    #nodes = [{'data': {'id': '172', 'name': 'Tom Cruise', 'label': 'Person'}},\n",
    "      #          {'data': {'id': '183', 'title': 'Top Gun', 'label': 'Movie'}},\n",
    "      #          {'data': {'id': '200', 'name': 'AAA', 'label': 'Movie'}}]\n",
    "    #edges = [{'data': {'source': '172', 'target': '183', 'relationship': 'Acted_In'}}]\n",
    "    \n",
    "    \n",
    "    #return jsonify(elements = {\"nodes\": nodes, \"edges\": edges})    #用jsonify函数把elements转成JSON格式返回给前端\n",
    "    return elements\n",
    "'''\n",
    "\n",
    "if __name__ == '__main__':\n",
    "    app.run()\n",
    "    \n"
   ]
  },
  {
   "cell_type": "code",
   "execution_count": null,
   "id": "13c9e999",
   "metadata": {
    "scrolled": true
   },
   "outputs": [],
   "source": [
    "from flask import Flask,g\n",
    "\n",
    "app = Flask(__name__)\n",
    "\n",
    "@app.before_request\n",
    "def bfr():\n",
    "    g.name = 'jack'\n",
    "\n",
    "@app.route('/')\n",
    "def index1():\n",
    "    print(g.name)\n",
    "    return('index1页面')\n",
    "\n",
    "\n",
    "@app.route('/index2')\n",
    "def index2():\n",
    "    print(g.name)\n",
    "    return('index2页面')\n",
    "\n",
    "if __name__ == '__main__':\n",
    "    app.run()\n"
   ]
  },
  {
   "cell_type": "code",
   "execution_count": null,
   "id": "8967384e",
   "metadata": {
    "scrolled": true
   },
   "outputs": [],
   "source": []
  },
  {
   "cell_type": "code",
   "execution_count": null,
   "id": "98204c4b",
   "metadata": {},
   "outputs": [],
   "source": []
  },
  {
   "cell_type": "code",
   "execution_count": null,
   "id": "4ea9a468",
   "metadata": {},
   "outputs": [],
   "source": []
  },
  {
   "cell_type": "code",
   "execution_count": 52,
   "id": "4ab58502",
   "metadata": {},
   "outputs": [
    {
     "data": {
      "text/plain": [
       "'\\n\\napp = Flask(__name__)\\ngraph = Graph()\\n\\ndef buildNodes(nodeRecord):\\n    data = {\"id\": str(nodeRecord[\\'id\\']), \"label\": next(iter(nodeRecord[\\'label\\']))}\\n    data.update(nodeRecord[\\'n\\'])\\n    return {\"data\": data}\\n\\ndef buildEdges(relationRecord):\\n    data = {\"source\": str(relationRecord[\\'start_id\\']), \"target\": str(relationRecord[\\'end_id\\']), \"relationship\": relationRecord[\\'type\\']}\\n    return {\"data\": data}\\n\\n@app.route(\\'/\\')\\ndef index():\\n    return render_template(\\'index.html\\')\\n\\n@app.route(\\'/graph\\')\\ndef get_graph():\\n    nodes = list(map(buildNodes, py2neo.client.json.dehydrate(graph.run(\\'MATCH (n) RETURN id(n) as id, labels(n) as label, n\\').data())))\\n    edges = list(map(buildEdges, py2neo.client.json.dehydrate(graph.run(\\'MATCH (n1)-[r]->(n2) RETURN id(r) as id, id(n1) as start_id, id(n2) as end_id, type(r) as type, r\\').data())))\\n    return jsonify(elements = {\"nodes\": nodes, \"edges\": edges})\\n\\nif __name__ == \\'__main__\\':\\n    app.jinja_env.auto_reload = True\\n    app.config[\\'TEMPLATES_AUTO_RELOAD\\'] = True\\n    app.run(debug = True, host=\\'10.110.41.71\\')\\n    \\n'"
      ]
     },
     "execution_count": 52,
     "metadata": {},
     "output_type": "execute_result"
    }
   ],
   "source": [
    "'''\n",
    "\n",
    "app = Flask(__name__)\n",
    "graph = Graph()\n",
    "\n",
    "def buildNodes(nodeRecord):\n",
    "    data = {\"id\": str(nodeRecord['id']), \"label\": next(iter(nodeRecord['label']))}\n",
    "    data.update(nodeRecord['n'])\n",
    "    return {\"data\": data}\n",
    "\n",
    "def buildEdges(relationRecord):\n",
    "    data = {\"source\": str(relationRecord['start_id']), \"target\": str(relationRecord['end_id']), \"relationship\": relationRecord['type']}\n",
    "    return {\"data\": data}\n",
    "\n",
    "@app.route('/')\n",
    "def index():\n",
    "    return render_template('index.html')\n",
    "\n",
    "@app.route('/graph')\n",
    "def get_graph():\n",
    "    nodes = list(map(buildNodes, py2neo.client.json.dehydrate(graph.run('MATCH (n) RETURN id(n) as id, labels(n) as label, n').data())))\n",
    "    edges = list(map(buildEdges, py2neo.client.json.dehydrate(graph.run('MATCH (n1)-[r]->(n2) RETURN id(r) as id, id(n1) as start_id, id(n2) as end_id, type(r) as type, r').data())))\n",
    "    return jsonify(elements = {\"nodes\": nodes, \"edges\": edges})\n",
    "\n",
    "if __name__ == '__main__':\n",
    "    app.jinja_env.auto_reload = True\n",
    "    app.config['TEMPLATES_AUTO_RELOAD'] = True\n",
    "    app.run(debug = True, host='10.110.41.71')\n",
    "    \n",
    "'''"
   ]
  },
  {
   "cell_type": "code",
   "execution_count": null,
   "id": "1109d99e",
   "metadata": {},
   "outputs": [],
   "source": [
    "\n",
    "\n",
    "\n",
    "\n"
   ]
  }
 ],
 "metadata": {
  "kernelspec": {
   "display_name": "Python 3",
   "language": "python",
   "name": "python3"
  },
  "language_info": {
   "codemirror_mode": {
    "name": "ipython",
    "version": 3
   },
   "file_extension": ".py",
   "mimetype": "text/x-python",
   "name": "python",
   "nbconvert_exporter": "python",
   "pygments_lexer": "ipython3",
   "version": "3.8.8"
  }
 },
 "nbformat": 4,
 "nbformat_minor": 5
}
