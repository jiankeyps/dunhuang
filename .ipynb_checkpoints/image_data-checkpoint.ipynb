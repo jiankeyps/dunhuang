{
 "cells": [
  {
   "cell_type": "code",
   "execution_count": 6,
   "id": "c53a447d",
   "metadata": {},
   "outputs": [
    {
     "name": "stdout",
     "output_type": "stream",
     "text": [
      "1 /static/images/莫276EB1.jpg\n",
      "2 /static/images/莫442TOP1.jpg\n",
      "<class 'list'> ['/static/images/莫276EB1.jpg', '/static/images/莫276EB1-y.jpg', '/static/images/莫442TOP1.jpg', '/static/images/莫442TOP1-y.jpg']\n",
      "<class 'list'> ['莫276EB1', '莫276EB1原图', '莫442TOP1', '莫442TOP1原图']\n",
      "<class 'dict'> {'/static/images/莫276EB1.jpg': '莫276EB1', '/static/images/莫276EB1-y.jpg': '莫276EB1原图', '/static/images/莫442TOP1.jpg': '莫442TOP1', '/static/images/莫442TOP1-y.jpg': '莫442TOP1原图'}\n"
     ]
    },
    {
     "data": {
      "text/plain": [
       "(['/static/images/莫276EB1.jpg',\n",
       "  '/static/images/莫276EB1-y.jpg',\n",
       "  '/static/images/莫442TOP1.jpg',\n",
       "  '/static/images/莫442TOP1-y.jpg'],\n",
       " ['莫276EB1', '莫276EB1原图', '莫442TOP1', '莫442TOP1原图'],\n",
       " {'/static/images/莫276EB1.jpg': '莫276EB1',\n",
       "  '/static/images/莫276EB1-y.jpg': '莫276EB1原图',\n",
       "  '/static/images/莫442TOP1.jpg': '莫442TOP1',\n",
       "  '/static/images/莫442TOP1-y.jpg': '莫442TOP1原图'})"
      ]
     },
     "execution_count": 6,
     "metadata": {},
     "output_type": "execute_result"
    }
   ],
   "source": [
    "#coding:utf-8\n",
    "from flask import Flask,render_template,request,g\n",
    "\n",
    "\n",
    "def image_func():\n",
    "    #result = g.result\n",
    "    result = [{'n.name': '莫276EB1'}, {'n.name': '莫442TOP1'}]\n",
    "    \n",
    "    n = len(result)     #统计壁画列表个数\n",
    "    i = 0\n",
    "\n",
    "    image_list = []\n",
    "    image_record = []\n",
    "\n",
    "    for i in range(n):\n",
    "        if i <= n:\n",
    "            record = (result[i]['n.name'])      #分别取出壁画线描名称\n",
    "            image_name = '/static/images/' + record +'.jpg'            #壁画线描路径\n",
    "            image_yuantu = '/static/images/' + record +'-y.jpg'   #壁画原图路径\n",
    "            record_yuantu = record + '原图'       #壁画原图名称 \n",
    "            i += 1\n",
    "            print(i,image_name)\n",
    "            image_list.append(image_name)      #添加线描图本地路径\n",
    "            image_list.append(image_yuantu)    #添加原图本地路径\n",
    "            image_record.append(record)        #生成线描图名称\n",
    "            image_record.append(record_yuantu) #生成原图名称\n",
    "        else:\n",
    "            break\n",
    "\n",
    "        \n",
    "        \n",
    "    print(type(image_list),image_list)\n",
    "    print(type(image_record),image_record)\n",
    "\n",
    "    data = dict(zip(image_list,image_record))   #为了在一个html的for循环中将路径与名称两个参数都传进去，生成一个字典\n",
    "    print(type(data),data)\n",
    "    \n",
    "    return(image_list,image_record,data)\n",
    "\n",
    "\n",
    "image_func()\n"
   ]
  },
  {
   "cell_type": "code",
   "execution_count": 2,
   "id": "bde6d443",
   "metadata": {},
   "outputs": [
    {
     "name": "stdout",
     "output_type": "stream",
     "text": [
      "[NbConvertApp] Converting notebook image_data.ipynb to python\n",
      "[NbConvertApp] Writing 1092 bytes to image_data.py\n"
     ]
    }
   ],
   "source": [
    "#需要import外部引用，因此将ipynb文件另存为同一目录的py文件\n",
    "try:    \n",
    "    !jupyter nbconvert --to python image_data.ipynb\n",
    "    # python即转化为.py，script即转化为.html\n",
    "    # file_name.ipynb即当前module的文件名\n",
    "except:\n",
    "    pass"
   ]
  },
  {
   "cell_type": "code",
   "execution_count": null,
   "id": "5454f955",
   "metadata": {},
   "outputs": [],
   "source": []
  }
 ],
 "metadata": {
  "kernelspec": {
   "display_name": "Python 3",
   "language": "python",
   "name": "python3"
  },
  "language_info": {
   "codemirror_mode": {
    "name": "ipython",
    "version": 3
   },
   "file_extension": ".py",
   "mimetype": "text/x-python",
   "name": "python",
   "nbconvert_exporter": "python",
   "pygments_lexer": "ipython3",
   "version": "3.8.8"
  }
 },
 "nbformat": 4,
 "nbformat_minor": 5
}
