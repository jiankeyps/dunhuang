{
 "cells": [
  {
   "cell_type": "code",
   "execution_count": null,
   "id": "5263e1c5",
   "metadata": {
    "scrolled": true
   },
   "outputs": [
    {
     "name": "stdout",
     "output_type": "stream",
     "text": [
      " * Serving Flask app \"__main__\" (lazy loading)\n",
      " * Environment: production\n",
      "\u001b[31m   WARNING: This is a development server. Do not use it in a production deployment.\u001b[0m\n",
      "\u001b[2m   Use a production WSGI server instead.\u001b[0m\n",
      " * Debug mode: off\n"
     ]
    },
    {
     "name": "stderr",
     "output_type": "stream",
     "text": [
      " * Running on http://192.168.40.173:5000/ (Press CTRL+C to quit)\n",
      "192.168.40.173 - - [24/Feb/2022 10:32:45] \"\u001b[37mGET / HTTP/1.1\u001b[0m\" 200 -\n",
      "[2022-02-24 10:32:45,083] ERROR in app: Exception on /graph [GET]\n",
      "Traceback (most recent call last):\n",
      "  File \"/opt/anaconda3/lib/python3.8/site-packages/flask/app.py\", line 2447, in wsgi_app\n",
      "    response = self.full_dispatch_request()\n",
      "  File \"/opt/anaconda3/lib/python3.8/site-packages/flask/app.py\", line 1952, in full_dispatch_request\n",
      "    rv = self.handle_user_exception(e)\n",
      "  File \"/opt/anaconda3/lib/python3.8/site-packages/flask/app.py\", line 1821, in handle_user_exception\n",
      "    reraise(exc_type, exc_value, tb)\n",
      "  File \"/opt/anaconda3/lib/python3.8/site-packages/flask/_compat.py\", line 39, in reraise\n",
      "    raise value\n",
      "  File \"/opt/anaconda3/lib/python3.8/site-packages/flask/app.py\", line 1950, in full_dispatch_request\n",
      "    rv = self.dispatch_request()\n",
      "  File \"/opt/anaconda3/lib/python3.8/site-packages/flask/app.py\", line 1936, in dispatch_request\n",
      "    return self.view_functions[rule.endpoint](**req.view_args)\n",
      "  File \"<ipython-input-1-e2b90f883709>\", line 89, in get_graph\n",
      "    g.result = app.result\n",
      "AttributeError: 'Flask' object has no attribute 'result'\n",
      "192.168.40.173 - - [24/Feb/2022 10:32:45] \"\u001b[35m\u001b[1mGET /graph HTTP/1.1\u001b[0m\" 500 -\n",
      "192.168.40.173 - - [24/Feb/2022 10:32:52] \"\u001b[37mPOST / HTTP/1.1\u001b[0m\" 200 -\n",
      "192.168.40.173 - - [24/Feb/2022 10:32:52] \"\u001b[37mGET /graph HTTP/1.1\u001b[0m\" 200 -\n",
      "192.168.40.173 - - [24/Feb/2022 10:33:38] \"\u001b[37mPOST / HTTP/1.1\u001b[0m\" 200 -\n",
      "192.168.40.173 - - [24/Feb/2022 10:33:38] \"\u001b[37mGET /static/images/莫301EP1.jpg HTTP/1.1\u001b[0m\" 200 -\n",
      "192.168.40.173 - - [24/Feb/2022 10:33:38] \"\u001b[37mGET /static/images/莫301EP1-y.jpg HTTP/1.1\u001b[0m\" 200 -\n",
      "192.168.40.173 - - [24/Feb/2022 10:33:38] \"\u001b[37mGET /graph HTTP/1.1\u001b[0m\" 200 -\n"
     ]
    }
   ],
   "source": [
    "#coding=utf-8\n",
    "\n",
    "from flask import Flask,jsonify,render_template,request,g,current_app\n",
    "from py2neo import *\n",
    "from functools import reduce\n",
    "import query\n",
    "import image_data\n",
    "import tupu\n",
    "\n",
    "app = Flask(__name__)\n",
    "graph = Graph(\"http://localhost:7474\",auth=(\"neo4j\",\"123456\"))\n",
    "\n",
    "\n",
    "@app.before_request\n",
    "def before_request():\n",
    "    if request.method == 'POST':\n",
    "        chaodai = request.form.get(\"chaodai\")     #获取朝代表单值\n",
    "        dongku = request.form.get(\"dongku\")\n",
    "        xingzhi = request.form.get(\"xingzhi\")\n",
    "        zhuti = request.form.get(\"zhuti\")\n",
    "        buju = request.form.get(\"buju\")\n",
    "        leixing = request.form.get(\"leixing\")\n",
    "        wuding = request.form.get(\"wuding\")\n",
    "        wudingjiegoufujian = request.form.get(\"wudingjiegoufujian\")\n",
    "        washi = request.form.get(\"washi\")\n",
    "        wushen = request.form.get(\"wushen\")\n",
    "        wushenjiegoufujian = request.form.get(\"wushenjiegoufujian\")\n",
    "        qiangshi = request.form.get(\"qiangshi\")\n",
    "        jizuo = request.form.get(\"jizuo\")\n",
    "        jizuofujian = request.form.get(\"jizuofujian\")\n",
    "        \n",
    "        #所有表单提交查询列表\n",
    "        click = [chaodai,dongku,xingzhi,zhuti,buju,leixing,wuding,wudingjiegoufujian,washi,wushen,\n",
    "                    wushenjiegoufujian,qiangshi,jizuo,jizuofujian]\n",
    "        \n",
    "        g.click = click       #click化为G对象        \n",
    "        cypher = query.query_func()  #G对象作为容器,将参数click传递到query模块query_func()函数，调用后得到Cypher问句\n",
    "         \n",
    "        result = graph.run(cypher).data()         #运行Cypher问句\n",
    "        g.result = result       #运行结果化为G对象\n",
    " \n",
    "        app.result = result   #g对象无法将参数传至get_graph，因此使用应用上下文current_app\n",
    "\n",
    "@app.route('/',methods = ['GET','POST'])\n",
    "def index():\n",
    "    if request.method == 'GET':\n",
    "        image_list = []      #POST前输入index.html的图片参数先设空值\n",
    "        image_record = []\n",
    "        data = {}\n",
    "        \n",
    "        return render_template('index.html',image_list = image_list,image_record = image_record,data = data)\n",
    "        \n",
    "    if request.method == 'POST':\n",
    "        out = image_data.image_func()          #调用image_data模块image_func()函数中，得到图像路径与名称\n",
    "        #print(out)\n",
    "        \n",
    "        image_list = out[0]\n",
    "        image_record = out[1]\n",
    "        data = out[2]\n",
    "        \n",
    "        #elements = tupu.graph_func()    #graph为GET方法\n",
    "                \n",
    "        return  render_template('index.html',image_list = image_list,image_record = image_record,data = data)\n",
    "\n",
    "\n",
    "#由code.js中的$.get('/graph', function(result_nr) {}, 'json')调用\n",
    "#把neo4j的数据转成符合cytoscape要求的JSON数据存在code.js的result_nr中\n",
    "@app.route('/graph')\n",
    "def get_graph():\n",
    "    g.result = app.result     #g对象无法将参数传至get_graph，因此使用应用上下文current_app\n",
    "    #g.result =  [{'n.name': '莫276EB1'}, {'n.name': '莫442TOP1'}]\n",
    "\n",
    "    elements = tupu.graph_func()         #调用tupu模块的graph_func函数，将json格式的节点、关系返回前端知识图谱cy中\n",
    "    \n",
    "    return elements\n",
    "\n",
    "\n",
    "\n",
    "if __name__ == '__main__':\n",
    "    app.run(host='192.168.40.173',port=5000)\n",
    "    \n"
   ]
  },
  {
   "cell_type": "code",
   "execution_count": null,
   "id": "13c9e999",
   "metadata": {
    "scrolled": true
   },
   "outputs": [],
   "source": []
  },
  {
   "cell_type": "code",
   "execution_count": null,
   "id": "8967384e",
   "metadata": {
    "scrolled": true
   },
   "outputs": [],
   "source": []
  }
 ],
 "metadata": {
  "kernelspec": {
   "display_name": "Python 3",
   "language": "python",
   "name": "python3"
  },
  "language_info": {
   "codemirror_mode": {
    "name": "ipython",
    "version": 3
   },
   "file_extension": ".py",
   "mimetype": "text/x-python",
   "name": "python",
   "nbconvert_exporter": "python",
   "pygments_lexer": "ipython3",
   "version": "3.8.8"
  }
 },
 "nbformat": 4,
 "nbformat_minor": 5
}
