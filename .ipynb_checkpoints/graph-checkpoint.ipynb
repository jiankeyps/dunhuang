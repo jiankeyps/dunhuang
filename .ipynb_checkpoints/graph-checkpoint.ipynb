{
 "cells": [
  {
   "cell_type": "code",
   "execution_count": 60,
   "id": "29ef71d9",
   "metadata": {},
   "outputs": [
    {
     "name": "stdout",
     "output_type": "stream",
     "text": [
      "[{'data': {'id': '7', 'name': '莫276EB1', 'label': '壁画'}}, {'data': {'id': '4', 'name': '莫276', 'label': '洞窟'}}, {'data': {'id': '0', 'name': '初唐', 'label': '朝代'}}, {'data': {'id': '13', 'name': '本生故事画', 'label': '主题'}}, {'data': {'id': '15', 'name': '单体', 'label': '布局'}}, {'data': {'id': '17', 'name': '佛寺', 'label': '类型'}}, {'data': {'id': '8', 'name': '莫276EB2', 'label': '壁画'}}, {'data': {'id': '16', 'name': '建筑群', 'label': '布局'}}, {'data': {'id': '9', 'name': '莫301EP1', 'label': '壁画'}}, {'data': {'id': '5', 'name': '莫301', 'label': '洞窟'}}, {'data': {'id': '1', 'name': '盛唐', 'label': '朝代'}}, {'data': {'id': '14', 'name': '佛传故事画', 'label': '主题'}}, {'data': {'id': '11', 'name': '莫442TOP1', 'label': '壁画'}}, {'data': {'id': '6', 'name': '莫442', 'label': '洞窟'}}]\n",
      "[{'source': '7', 'target': '4', 'relationship': '洞窟'}, {'source': '7', 'target': '0', 'relationship': '朝代'}, {'source': '7', 'target': '13', 'relationship': '主题'}, {'source': '7', 'target': '15', 'relationship': '布局'}, {'source': '7', 'target': '17', 'relationship': '类型'}, {'source': '8', 'target': '4', 'relationship': '洞窟'}, {'source': '8', 'target': '0', 'relationship': '朝代'}, {'source': '8', 'target': '13', 'relationship': '主题'}, {'source': '8', 'target': '16', 'relationship': '布局'}, {'source': '8', 'target': '17', 'relationship': '类型'}, {'source': '9', 'target': '5', 'relationship': '洞窟'}, {'source': '9', 'target': '1', 'relationship': '朝代'}, {'source': '9', 'target': '14', 'relationship': '主题'}, {'source': '9', 'target': '16', 'relationship': '布局'}, {'source': '9', 'target': '17', 'relationship': '类型'}, {'source': '11', 'target': '6', 'relationship': '洞窟'}, {'source': '11', 'target': '1', 'relationship': '朝代'}, {'source': '11', 'target': '13', 'relationship': '主题'}, {'source': '11', 'target': '15', 'relationship': '布局'}, {'source': '11', 'target': '17', 'relationship': '类型'}]\n"
     ]
    },
    {
     "data": {
      "text/plain": [
       "([{'data': {'id': '7', 'name': '莫276EB1', 'label': '壁画'}},\n",
       "  {'data': {'id': '4', 'name': '莫276', 'label': '洞窟'}},\n",
       "  {'data': {'id': '0', 'name': '初唐', 'label': '朝代'}},\n",
       "  {'data': {'id': '13', 'name': '本生故事画', 'label': '主题'}},\n",
       "  {'data': {'id': '15', 'name': '单体', 'label': '布局'}},\n",
       "  {'data': {'id': '17', 'name': '佛寺', 'label': '类型'}},\n",
       "  {'data': {'id': '8', 'name': '莫276EB2', 'label': '壁画'}},\n",
       "  {'data': {'id': '16', 'name': '建筑群', 'label': '布局'}},\n",
       "  {'data': {'id': '9', 'name': '莫301EP1', 'label': '壁画'}},\n",
       "  {'data': {'id': '5', 'name': '莫301', 'label': '洞窟'}},\n",
       "  {'data': {'id': '1', 'name': '盛唐', 'label': '朝代'}},\n",
       "  {'data': {'id': '14', 'name': '佛传故事画', 'label': '主题'}},\n",
       "  {'data': {'id': '11', 'name': '莫442TOP1', 'label': '壁画'}},\n",
       "  {'data': {'id': '6', 'name': '莫442', 'label': '洞窟'}}],\n",
       " [{'source': '7', 'target': '4', 'relationship': '洞窟'},\n",
       "  {'source': '7', 'target': '0', 'relationship': '朝代'},\n",
       "  {'source': '7', 'target': '13', 'relationship': '主题'},\n",
       "  {'source': '7', 'target': '15', 'relationship': '布局'},\n",
       "  {'source': '7', 'target': '17', 'relationship': '类型'},\n",
       "  {'source': '8', 'target': '4', 'relationship': '洞窟'},\n",
       "  {'source': '8', 'target': '0', 'relationship': '朝代'},\n",
       "  {'source': '8', 'target': '13', 'relationship': '主题'},\n",
       "  {'source': '8', 'target': '16', 'relationship': '布局'},\n",
       "  {'source': '8', 'target': '17', 'relationship': '类型'},\n",
       "  {'source': '9', 'target': '5', 'relationship': '洞窟'},\n",
       "  {'source': '9', 'target': '1', 'relationship': '朝代'},\n",
       "  {'source': '9', 'target': '14', 'relationship': '主题'},\n",
       "  {'source': '9', 'target': '16', 'relationship': '布局'},\n",
       "  {'source': '9', 'target': '17', 'relationship': '类型'},\n",
       "  {'source': '11', 'target': '6', 'relationship': '洞窟'},\n",
       "  {'source': '11', 'target': '1', 'relationship': '朝代'},\n",
       "  {'source': '11', 'target': '13', 'relationship': '主题'},\n",
       "  {'source': '11', 'target': '15', 'relationship': '布局'},\n",
       "  {'source': '11', 'target': '17', 'relationship': '类型'}])"
      ]
     },
     "execution_count": 60,
     "metadata": {},
     "output_type": "execute_result"
    }
   ],
   "source": [
    "#coding:utf-8\n",
    "from flask import Flask,render_template,request,g,jsonify\n",
    "from py2neo import *\n",
    "from functools import reduce\n",
    "\n",
    "graph = Graph(\"http://localhost:7474\",auth=(\"neo4j\",\"123456\"))\n",
    "\n",
    "#获取查询结果\n",
    "result = g.result\n",
    "#result = [{'n.name': '莫276EB1'}, {'n.name': '莫276EB2'}, {'n.name': '莫301EP1'}, {'n.name': '莫442TOP1'}]\n",
    "\n",
    "\n",
    "nodes = []\n",
    "edges = []\n",
    "\n",
    "m = len(result)\n",
    "n = 0\n",
    "\n",
    "def buildNodes(graph_record):     #读取节点数据\n",
    "    data_a ={\"data\":{\"id\":str(graph_record['id(a)']), \"name\": graph_record.get('q').start_node.get('name'),\n",
    "              \"label\": ''.join(graph_record['labels(a)'])}}\n",
    "    data_b = {\"data\":{\"id\":str(graph_record['id(b)']), \"name\": graph_record.get('q').end_node.get('name'),\n",
    "              \"label\": ''.join(graph_record['labels(b)'])}}\n",
    "    for p,q in zip(data_a,data_b):   # for循环中使用zip()便能够同时对多个对象进行迭代.\n",
    "        nodes.append(data_a)\n",
    "        nodes.append(data_b)\n",
    "        \n",
    "    #print(nodes)\n",
    "    return nodes\n",
    "\n",
    "def buildEdges(graph_record):    #读取边数据\n",
    "    data = {\"data\":{\"source\": str(graph_record['id(a)']),\n",
    "            \"target\": str(graph_record['id(b)']),\n",
    "            \"relationship\": ''.join(graph_record['labels(b)'])}}\n",
    "    edges.append(data)\n",
    "    #print(edges)\n",
    "    return edges\n",
    "\n",
    "#列表里的字典元素去重\n",
    "def list_dict_duplicate_removal():\n",
    "    run_function = lambda x, y: x if y in x else x + [y]\n",
    "    return reduce(run_function, [[], ] + nodes)\n",
    "\n",
    "\n",
    "def get_graph():\n",
    "    for n in range(m):    #循环获取每个壁画的名称\n",
    "        if n <= m:\n",
    "            bihua = result[n]['n.name']\n",
    "            graph_result = graph.run('match q =  (a) -[r*1..3]->(b) where a.name=\"%s\" return q,id(a),id(b),labels(a),labels(b),r'% bihua).data()   #传入壁画名，读取节点、id、标签\n",
    "    \n",
    "            s = len(graph_result)\n",
    "            i = 0\n",
    "    \n",
    "            for i in range(s):   #循环获取每个壁画的所有节点和关系的数据\n",
    "                if i <= s:\n",
    "                    graph_record = graph_result[i] \n",
    "                    buildNodes(graph_record)\n",
    "                    buildEdges(graph_record)\n",
    "                    i += 1               \n",
    "                    \n",
    "            n += 1      \n",
    "    \n",
    "    nodes = list_dict_duplicate_removal()   #去除节点中的重复，关系没有重复\n",
    "    #print(nodes)\n",
    "    #print(edges)\n",
    "\n",
    "    return jsonify(elements={\"nodes\": nodes, \"edges\": edges})    # 输出json\n",
    "    #return nodes,edges\n",
    "\n",
    "\n",
    "\n",
    "get_graph()\n",
    "\n"
   ]
  },
  {
   "cell_type": "code",
   "execution_count": 61,
   "id": "f7960526",
   "metadata": {},
   "outputs": [
    {
     "name": "stdout",
     "output_type": "stream",
     "text": [
      "[NbConvertApp] Converting notebook graph.ipynb to python\n",
      "[NbConvertApp] Writing 2293 bytes to graph.py\n"
     ]
    }
   ],
   "source": [
    "#需要import外部引用，因此将ipynb文件另存为同一目录的py文件\n",
    "try:    \n",
    "    !jupyter nbconvert --to python graph.ipynb\n",
    "    # python即转化为.py，script即转化为.html\n",
    "    # file_name.ipynb即当前module的文件名\n",
    "except:\n",
    "    pass"
   ]
  },
  {
   "cell_type": "code",
   "execution_count": null,
   "id": "c267c0df",
   "metadata": {},
   "outputs": [],
   "source": []
  },
  {
   "cell_type": "code",
   "execution_count": null,
   "id": "bc6d69fa",
   "metadata": {},
   "outputs": [],
   "source": []
  }
 ],
 "metadata": {
  "kernelspec": {
   "display_name": "Python 3",
   "language": "python",
   "name": "python3"
  },
  "language_info": {
   "codemirror_mode": {
    "name": "ipython",
    "version": 3
   },
   "file_extension": ".py",
   "mimetype": "text/x-python",
   "name": "python",
   "nbconvert_exporter": "python",
   "pygments_lexer": "ipython3",
   "version": "3.8.8"
  }
 },
 "nbformat": 4,
 "nbformat_minor": 5
}
